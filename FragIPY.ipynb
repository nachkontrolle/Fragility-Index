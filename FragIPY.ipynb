{
 "cells": [
  {
   "cell_type": "code",
   "execution_count": 1,
   "metadata": {},
   "outputs": [],
   "source": [
    "import pandas as pd\n",
    "import matplotlib.pyplot as plt\n",
    "import matplotlib\n",
    "import seaborn as sns\n",
    "import numpy as np\n",
    "import scipy.stats as stats"
   ]
  },
  {
   "cell_type": "code",
   "execution_count": 21,
   "metadata": {},
   "outputs": [
    {
     "name": "stdout",
     "output_type": "stream",
     "text": [
      "Initial p-value:  0.0257691817683569\n",
      "Fragility Index:  2\n",
      "p-value 0.05111170463353855\n"
     ]
    }
   ],
   "source": [
    "# Calculating fragility index: trial results are arranged in a two-by-two contingency table\n",
    "# an event is iteratively added to the group with the smaller number of events \n",
    "# although removing a nonevent from the same group to maintain the total group size\n",
    "# until the p value produced by Fisher exact test equaled or exceeded 0.05\n",
    "# The number of events added to reach this threshold is the Fragility Index\n",
    "\n",
    "#initiate fragility index\n",
    "frag_ind = 0\n",
    "\n",
    "#create the 2 by 2 table\n",
    "#intervention group with and without endpoint/ top row\n",
    "int_end = 24\n",
    "int_no_end = 1849\n",
    "\n",
    "#controllgroup with and without / bottom row\n",
    "cont_end = 43\n",
    "cont_no_end = 1830\n",
    "\n",
    "#makes a table for an initial p-value calculation\n",
    "table = [[int_end, int_no_end], [cont_end, cont_no_end]]\n",
    "\n",
    "oddsratio, pvalue = stats.fisher_exact(table)\n",
    "print(\"Initial p-value: \", pvalue)\n",
    "\n",
    "# choose the group with fewer events and iterate through, adding a event each time untill p >0.05\n",
    "if int_end > cont_end: \n",
    "    while pvalue < 0.05 :\n",
    "        cont_end += 1\n",
    "        cont_no_end -= 1\n",
    "        frag_ind +=1\n",
    "        oddsratio, pvalue = stats.fisher_exact([[int_end, int_no_end], [cont_end, cont_no_end]])\n",
    "\n",
    "else :\n",
    "    while pvalue < 0.05 :\n",
    "        int_end += 1\n",
    "        int_no_end -= 1\n",
    "        frag_ind +=1\n",
    "        oddsratio, pvalue = stats.fisher_exact([[int_end, int_no_end], [cont_end, cont_no_end]])\n",
    "        \n",
    "#print out the values\n",
    "print(\"Fragility Index: \",frag_ind)\n",
    "print(\"p-value\",pvalue)\n"
   ]
  }
 ],
 "metadata": {
  "kernelspec": {
   "display_name": "Python 3",
   "language": "python",
   "name": "python3"
  },
  "language_info": {
   "codemirror_mode": {
    "name": "ipython",
    "version": 3
   },
   "file_extension": ".py",
   "mimetype": "text/x-python",
   "name": "python",
   "nbconvert_exporter": "python",
   "pygments_lexer": "ipython3",
   "version": "3.7.1"
  }
 },
 "nbformat": 4,
 "nbformat_minor": 2
}
