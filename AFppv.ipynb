{
 "cells": [
  {
   "cell_type": "code",
   "execution_count": 81,
   "metadata": {},
   "outputs": [],
   "source": [
    "import pandas as pd\n",
    "import matplotlib.pyplot as plt\n",
    "import matplotlib\n",
    "import io\n",
    "import seaborn as sns\n",
    "import numpy as np"
   ]
  },
  {
   "cell_type": "code",
   "execution_count": 95,
   "metadata": {},
   "outputs": [
    {
     "name": "stdout",
     "output_type": "stream",
     "text": [
      "   agemin  agemax   num  cases      prev  ageav       ppv       npv\n",
      "0      55      59  1161      8  0.006891   57.5  0.630330  0.999882\n",
      "1      60      64  1411     24  0.017009   62.5  0.809609  0.999705\n",
      "2      65      69  1291     51  0.039504   67.5  0.909970  0.999298\n",
      "3      70      74  1130     68  0.060177   72.5  0.940246  0.998908\n",
      "4      75      79   855     77  0.090058   77.5  0.960509  0.998314\n",
      "5      80      84   533     72  0.135084   82.5  0.974608  0.997341\n",
      "6      85     100   427     76  0.177986   93.0  0.981554  0.996318\n"
     ]
    }
   ],
   "source": [
    "# Estimation of Positive Predictive Value and Negative Predictive Value\n",
    "# using Apple Watch using Data from Apple and The Rotterdam AF Study.\n",
    "\n",
    "#import af prevalence\n",
    "# adapted from https://doi.org/10.1093/eurheartj/ehi825\n",
    "af = pd.read_csv(\"af.csv\")\n",
    "\n",
    "# add in average age of age ranges and prevalence columns\n",
    "af[\"prev\"] = af.cases / af.num\n",
    "af[\"ageav\"] = (af.agemax + 1 + af.agemin)/2\n",
    "\n",
    "# Performance Characteristics as by https://www.apple.com/healthcare/site/docs/Apple_Watch_Arrhythmia_Detection.pdf\n",
    "# 98.3% sensitivity and 99.6% specificity\n",
    "sens = 0.983\n",
    "spec = 0.996\n",
    "\n",
    "af[\"ppv\"] = (sens * af.prev) / ((sens * af.prev) + ((1-spec)*(1 - af.prev)))\n",
    "af[\"npv\"] = (spec * (1-af.prev)) / (((1 - sens) * af.prev) + (spec*(1 - af.prev)))\n",
    "print(af)"
   ]
  },
  {
   "cell_type": "code",
   "execution_count": 105,
   "metadata": {},
   "outputs": [
    {
     "data": {
      "image/png": "[encoded data removed]",
      "text/plain": [
       "<Figure size 432x288 with 2 Axes>"
      ]
     },
     "metadata": {
      "needs_background": "light"
     },
     "output_type": "display_data"
    }
   ],
   "source": [
    "#create prevalence percentages for graph\n",
    "af[\"prevpercent\"] = np.round(af.prev*100, 1)\n",
    "pr = sns.lineplot(x=\"ageav\", y=\"prevpercent\", data=af, color=\"g\", label=\"Prevelance\")\n",
    "pr.set_xlabel(\"Age\")\n",
    "pr.set_ylabel(\"Prevelance (%)\")\n",
    "pr.set_ylim(bottom=0, top=25)\n",
    "\n",
    "ax2 = plt.twinx()\n",
    "ax2.set_ylim(bottom=0, top=1.15)\n",
    "ppv = sns.lineplot(x=\"ageav\", y=\"ppv\", data=af, color=\"b\", ax=ax2, label=\"PPV\")\n",
    "npv = sns.lineplot(x=\"ageav\", y=\"npv\", data=af, color=\"r\", ax=ax2, label=\"PPV\")\n",
    "ax2.set_ylabel(\"Predctive Value\")\n",
    "plt.legend(loc=4)\n",
    "\n",
    "plt.show()"
   ]
  },
  {
   "cell_type": "code",
   "execution_count": null,
   "metadata": {},
   "outputs": [],
   "source": []
  },
  {
   "cell_type": "code",
   "execution_count": null,
   "metadata": {},
   "outputs": [],
   "source": []
  }
 ],
 "metadata": {
  "kernelspec": {
   "display_name": "Python 3",
   "language": "python",
   "name": "python3"
  },
  "language_info": {
   "codemirror_mode": {
    "name": "ipython",
    "version": 3
   },
   "file_extension": ".py",
   "mimetype": "text/x-python",
   "name": "python",
   "nbconvert_exporter": "python",
   "pygments_lexer": "ipython3",
   "version": "3.7.1"
  }
 },
 "nbformat": 4,
 "nbformat_minor": 2
}
